{
 "cells": [
  {
   "cell_type": "markdown",
   "id": "controlling-hepatitis",
   "metadata": {},
   "source": [
    "Napisz skrypt, który wygeneruje prosty dokument - protokół przekazania sprzętu. Aktualną datę pobierz automatycznie, pozostałe informacje pobierz ze zmiennych zdefiniowanych poniżej. Poszczególne elementy ostyluj wedle własnego uznania. Dokument zapisz jako `protokol.pdf`.\n",
    "\n",
    "Wzór dokumentu:\n",
    "```\n",
    "                                MIEJSCOWOŚĆ, DATA\n",
    "            Protokół przekazania sprzętu\n",
    "\n",
    "Przekazujący:\n",
    "NAZWA FIRMY\n",
    "ADRES FIRMY\n",
    "NIP: ...\n",
    "REGON: ...\n",
    "\n",
    "Odbierający:\n",
    "IMIĘ I NAZWISKO\n",
    "PESEL\n",
    "\n",
    "W dniu DATA zostały przekazane następujące sprzęty:\n",
    "- SPRZĘT 1\n",
    "- SPRZĘT 2\n",
    "- SPRZĘT 3\n",
    "\n",
    "\n",
    "\n",
    "................................\n",
    "Data i podpis przekazującego\n",
    "\n",
    "\n",
    "\n",
    "\n",
    "\n",
    "................................\n",
    "Data i podpis odbierającego\n",
    "```"
   ]
  },
  {
   "cell_type": "code",
   "execution_count": 1,
   "id": "small-mexico",
   "metadata": {},
   "outputs": [],
   "source": [
    "CITY = 'Warszawa'\n",
    "COMPANY_NAME = 'Przykładowa nazwa firmy'\n",
    "COMPANY_ADDRESS = 'Adres firmy'\n",
    "COMPANY_NIP = '9898767654'\n",
    "COMPANY_REGON = '565434321'\n",
    "\n",
    "EMPLOYEE_NAME = 'Jan Kowalski'\n",
    "EMPLOYEE_PESEL = '89122145345'\n",
    "\n",
    "HARDWARE = ['Laptop XYZ ABC o numerze seryjnym: RTY7890', 'Klawiatura', 'Myszka']"
   ]
  },
  {
   "cell_type": "code",
   "execution_count": 11,
   "outputs": [
    {
     "name": "stdout",
     "output_type": "stream",
     "text": [
      "Laptop XYZ ABC o numerze seryjnym: RTY7890\n",
      "Klawiatura\n",
      "Myszka\n"
     ]
    }
   ],
   "source": [
    "for x in HARDWARE:\n",
    "    print(x)"
   ],
   "metadata": {
    "collapsed": false
   }
  },
  {
   "cell_type": "code",
   "execution_count": 14,
   "outputs": [],
   "source": [
    "from reportlab.pdfbase import pdfmetrics\n",
    "from reportlab.pdfbase.ttfonts import TTFont\n",
    "pdfmetrics.registerFont(TTFont('Calibri', '/Applications/Microsoft Word.app/Contents/Resources/DFonts/Calibri.ttf'))\n",
    "from reportlab.lib.pagesizes import A2\n",
    "from reportlab.platypus import SimpleDocTemplate, Paragraph, Spacer\n",
    "from reportlab.lib.styles import getSampleStyleSheet, ParagraphStyle\n",
    "from datetime import datetime\n",
    "\n",
    "FILE_NAME = 'Ex2_advanced_styles.pdf'\n",
    "doc = SimpleDocTemplate(FILE_NAME,pagesize=A2,rightMargin=72,\n",
    "                        leftMargin=72,topMargin=72,bottomMargin=18)\n",
    "story=[]\n",
    "styles=getSampleStyleSheet()\n",
    "date = datetime.now().strftime(\"%d/%m/%Y\")\n",
    "form_style = ParagraphStyle('form',\n",
    "                           fontName=\"Calibri\",\n",
    "                           fontSize=16,\n",
    "                           parent=styles['Normal'],leftIndent=36,\n",
    "                          leading=20)\n",
    "\n",
    "ptext = f\"<para alignment='center'>{CITY} {date}</para>\"\n",
    "story.append(Paragraph(ptext, form_style))\n",
    "story.append(Spacer(1, 12))\n",
    "\n",
    "ptext = f\"<font>Protokół przekazania sprzętu</font>\"\n",
    "story.append(Paragraph(ptext, form_style))\n",
    "story.append(Spacer(1, 50))\n",
    "\n",
    "\n",
    "story.append(Paragraph(\"<font>Przekazujący:</font>\", form_style))\n",
    "\n",
    "story.append(Paragraph(f\"{COMPANY_NAME}\", form_style))\n",
    "story.append(Paragraph(f\"{COMPANY_ADDRESS}\", form_style))\n",
    "story.append(Paragraph(f\"NIP: {COMPANY_NIP}\",form_style))\n",
    "story.append(Paragraph(f\"REGON: {COMPANY_REGON}\", form_style))\n",
    "story.append(Spacer(1, 50))\n",
    "\n",
    "story.append(Paragraph(\"<font>Odbierający:</font>\", form_style))\n",
    "story.append(Paragraph(f\"{EMPLOYEE_NAME}\", form_style))\n",
    "story.append(Paragraph(f\"PESEL: {EMPLOYEE_PESEL}\", form_style))\n",
    "story.append(Spacer(1, 50))\n",
    "\n",
    "story.append(Paragraph(f\"W dniu {date} zostały przekazane następujące sprzęty:\", form_style))\n",
    "story.append(Spacer(1, 12))\n",
    "\n",
    "\n",
    "for x in HARDWARE:\n",
    "    story.append(Paragraph(f\"- {x}\", form_style))\n",
    "\n",
    "story.append(Spacer(1, 50))\n",
    "\n",
    "story.append(Paragraph(\"................................\", form_style))\n",
    "story.append(Paragraph(\"Data i podpis przekazującego\", form_style))\n",
    "story.append(Spacer(1, 20))\n",
    "story.append(Paragraph(\"................................\", form_style))\n",
    "story.append(Paragraph(f\"Data i podpis odbierającego\", form_style))\n",
    "doc.build(story)"
   ],
   "metadata": {
    "collapsed": false
   }
  },
  {
   "cell_type": "code",
   "execution_count": null,
   "outputs": [],
   "source": [],
   "metadata": {
    "collapsed": false
   }
  }
 ],
 "metadata": {
  "kernelspec": {
   "display_name": "Python 3",
   "language": "python",
   "name": "python3"
  },
  "language_info": {
   "codemirror_mode": {
    "name": "ipython",
    "version": 3
   },
   "file_extension": ".py",
   "mimetype": "text/x-python",
   "name": "python",
   "nbconvert_exporter": "python",
   "pygments_lexer": "ipython3",
   "version": "3.8.5"
  }
 },
 "nbformat": 4,
 "nbformat_minor": 5
}
