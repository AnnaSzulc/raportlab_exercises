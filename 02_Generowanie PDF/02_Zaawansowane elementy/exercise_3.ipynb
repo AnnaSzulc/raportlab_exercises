{
 "cells": [
  {
   "cell_type": "markdown",
   "id": "exclusive-physiology",
   "metadata": {},
   "source": [
    "Przerób skrypt z poprzedniego zadania, tak aby generował wiele PDFów na podstawie danych z pliku `sprzęt.csv`. Kolejne pliki niech nazywają się `protokol-1.pdf`, `protokol-2.pdf`, itd."
   ]
  },
  {
   "cell_type": "code",
   "execution_count": 1,
   "id": "stylish-methodology",
   "metadata": {},
   "outputs": [],
   "source": [
    "import pandas as pd\n",
    "from reportlab.pdfbase import pdfmetrics\n",
    "from reportlab.pdfbase.ttfonts import TTFont\n",
    "pdfmetrics.registerFont(TTFont('Calibri', '/Applications/Microsoft Word.app/Contents/Resources/DFonts/Calibri.ttf'))\n",
    "from reportlab.lib.pagesizes import A2\n",
    "from reportlab.platypus import SimpleDocTemplate, Paragraph, Spacer, Image,PageBreak\n",
    "from reportlab.lib.styles import getSampleStyleSheet, ParagraphStyle\n",
    "from datetime import datetime"
   ]
  },
  {
   "cell_type": "code",
   "execution_count": 2,
   "outputs": [
    {
     "data": {
      "text/plain": "     Imię  Nazwisko        Pesel                                Sprzęt 1  \\\n0   Artur     Nowak  89121234567   Laptop XYZ o numerze seryjnym QWE4567   \n1   Maria  Kowalska  97111278978  Laptop ABC o numerze seryjnym 56567878   \n2  Joanna    Wójcik  99010123123     Tablet XXY o numerze seryjnym 34234   \n\n     Sprzęt 2                                           Sprzęt 3  Sprzęt 4  \n0  Klawiatura                                               Mysz  Zasilacz  \n1  Klawiatura                                               Mysz  Zasilacz  \n2   Ładowarka  Samochód służbowy o numerze rejestracyjnym WA9...       NaN  ",
      "text/html": "<div>\n<style scoped>\n    .dataframe tbody tr th:only-of-type {\n        vertical-align: middle;\n    }\n\n    .dataframe tbody tr th {\n        vertical-align: top;\n    }\n\n    .dataframe thead th {\n        text-align: right;\n    }\n</style>\n<table border=\"1\" class=\"dataframe\">\n  <thead>\n    <tr style=\"text-align: right;\">\n      <th></th>\n      <th>Imię</th>\n      <th>Nazwisko</th>\n      <th>Pesel</th>\n      <th>Sprzęt 1</th>\n      <th>Sprzęt 2</th>\n      <th>Sprzęt 3</th>\n      <th>Sprzęt 4</th>\n    </tr>\n  </thead>\n  <tbody>\n    <tr>\n      <th>0</th>\n      <td>Artur</td>\n      <td>Nowak</td>\n      <td>89121234567</td>\n      <td>Laptop XYZ o numerze seryjnym QWE4567</td>\n      <td>Klawiatura</td>\n      <td>Mysz</td>\n      <td>Zasilacz</td>\n    </tr>\n    <tr>\n      <th>1</th>\n      <td>Maria</td>\n      <td>Kowalska</td>\n      <td>97111278978</td>\n      <td>Laptop ABC o numerze seryjnym 56567878</td>\n      <td>Klawiatura</td>\n      <td>Mysz</td>\n      <td>Zasilacz</td>\n    </tr>\n    <tr>\n      <th>2</th>\n      <td>Joanna</td>\n      <td>Wójcik</td>\n      <td>99010123123</td>\n      <td>Tablet XXY o numerze seryjnym 34234</td>\n      <td>Ładowarka</td>\n      <td>Samochód służbowy o numerze rejestracyjnym WA9...</td>\n      <td>NaN</td>\n    </tr>\n  </tbody>\n</table>\n</div>"
     },
     "execution_count": 2,
     "metadata": {},
     "output_type": "execute_result"
    }
   ],
   "source": [
    "df = pd.read_csv(\"sprzęt.csv\")\n",
    "df"
   ],
   "metadata": {
    "collapsed": false
   }
  },
  {
   "cell_type": "code",
   "execution_count": 3,
   "outputs": [
    {
     "data": {
      "text/plain": "['Sprzęt 1', 'Sprzęt 2', 'Sprzęt 3', 'Sprzęt 4']"
     },
     "execution_count": 3,
     "metadata": {},
     "output_type": "execute_result"
    }
   ],
   "source": [
    "equipment_list = [x for x in df.columns if 'Sprzęt' in x]\n",
    "equipment_list"
   ],
   "metadata": {
    "collapsed": false
   }
  },
  {
   "cell_type": "code",
   "execution_count": 4,
   "outputs": [],
   "source": [
    "CITY = 'Warszawa'\n",
    "COMPANY_NAME = 'Przykładowa nazwa firmy'\n",
    "COMPANY_ADDRESS = 'Adres firmy'\n",
    "COMPANY_NIP = '9898767654'\n",
    "COMPANY_REGON = '565434321'"
   ],
   "metadata": {
    "collapsed": false
   }
  },
  {
   "cell_type": "code",
   "execution_count": 5,
   "outputs": [],
   "source": [
    "def create_report(index,data,equipment_list,city, company_name,company_address,company_nip,company_regon,\\\n",
    "                  employee_name,employee_pesel):\n",
    "    file_name = f'protokol-{index+1}.pdf'\n",
    "    doc = SimpleDocTemplate(file_name,pagesize=A2,rightMargin=72,\n",
    "                            leftMargin=72,topMargin=72,bottomMargin=18)\n",
    "    story=[]\n",
    "    styles=getSampleStyleSheet()\n",
    "    date = datetime.now().strftime(\"%m/%d/%Y\")\n",
    "    form_style = ParagraphStyle('form',\n",
    "                           fontName=\"Calibri\",\n",
    "                           fontSize=16,\n",
    "                           parent=styles['Normal'],leftIndent=36,\n",
    "                          leading=40)\n",
    "\n",
    "    ptext = f\"<para alignment='center'>{city} {date}</para>\"\n",
    "    story.append(Paragraph(ptext, form_style))\n",
    "\n",
    "    ptext = f\"<font>Protokół przekazania sprzętu</font>\"\n",
    "    story.append(Paragraph(ptext, form_style))\n",
    "    story.append(Spacer(1, 50))\n",
    "    story.append(Paragraph(\"<font>Przekazujący:</font>\", form_style))\n",
    "    story.append(Paragraph(f\"{company_name}\", form_style))\n",
    "    story.append(Paragraph(f\"{company_address}\", form_style))\n",
    "    story.append(Paragraph(f\"NIP: {company_nip}\",form_style))\n",
    "    story.append(Paragraph(f\"REGON: {company_regon}\", form_style))\n",
    "    story.append(Spacer(1, 50))\n",
    "    story.append(Paragraph(\"<font>Odbierający:</font>\", form_style))\n",
    "    story.append(Paragraph(f\"{employee_name}\", form_style))\n",
    "    story.append(Paragraph(f\"PESEL: {employee_pesel}\", form_style))\n",
    "    story.append(Spacer(1, 50))\n",
    "    story.append(Paragraph(f\"W dniu {date} zostały przekazane następujące sprzęty:\", form_style))\n",
    "\n",
    "    for x in equipment_list:\n",
    "        if pd.notnull(data[x]):\n",
    "            story.append(Paragraph(f\"- {data[x]}\", form_style))\n",
    "\n",
    "    story.append(Spacer(1, 50))\n",
    "    story.append(Paragraph(\"................................\", form_style))\n",
    "    story.append(Paragraph(\"Data i podpis przekazującego\", form_style))\n",
    "    story.append(Paragraph(\"................................\", form_style))\n",
    "    story.append(Paragraph(f\"Data i podpis odbierającego\", form_style))\n",
    "\n",
    "    doc.build(story)"
   ],
   "metadata": {
    "collapsed": false
   }
  },
  {
   "cell_type": "code",
   "execution_count": 6,
   "outputs": [],
   "source": [
    "for index, row in df.iterrows():\n",
    "    employee_name = row['Imię'] + \" \" + row['Nazwisko']\n",
    "    employee_pesel = row['Pesel']\n",
    "    create_report(index, row,equipment_list,CITY, COMPANY_NAME,COMPANY_ADDRESS,COMPANY_NIP,COMPANY_REGON,employee_name,employee_pesel)"
   ],
   "metadata": {
    "collapsed": false
   }
  },
  {
   "cell_type": "code",
   "execution_count": null,
   "outputs": [],
   "source": [],
   "metadata": {
    "collapsed": false
   }
  }
 ],
 "metadata": {
  "kernelspec": {
   "display_name": "Python 3",
   "language": "python",
   "name": "python3"
  },
  "language_info": {
   "codemirror_mode": {
    "name": "ipython",
    "version": 3
   },
   "file_extension": ".py",
   "mimetype": "text/x-python",
   "name": "python",
   "nbconvert_exporter": "python",
   "pygments_lexer": "ipython3",
   "version": "3.8.5"
  }
 },
 "nbformat": 4,
 "nbformat_minor": 5
}
