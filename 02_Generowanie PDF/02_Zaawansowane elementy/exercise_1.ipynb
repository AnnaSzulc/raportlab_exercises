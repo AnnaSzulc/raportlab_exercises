{
 "cells": [
  {
   "cell_type": "markdown",
   "id": "brutal-canyon",
   "metadata": {},
   "source": [
    "W pliku **dane.csv** znajdziesz dane kilku uczniów: imię, nazwisko, płeć, rok urodzenia, lista ocen.\n",
    "\n",
    "Utwórz **jeden** plik `dane.pdf`, w którym każdy z uczniów będzie przedstawiony na osobnej stronie:\n",
    "\n",
    "```\n",
    "[Uczennica/Uczeń - wybierz jedno, na podstawie kolumny \"płeć\"] Imię i nazwisko - nagłówek\n",
    "Rok urodzenia - normalny tekst\n",
    "\n",
    "Oceny: - mniejszy nagłówek\n",
    "Język Polski - 6\n",
    "Język Angielski - 5\n",
    "...\n",
    "```"
   ]
  },
  {
   "cell_type": "code",
   "execution_count": 43,
   "id": "constitutional-groove",
   "metadata": {},
   "outputs": [],
   "source": [
    "# sposob 1\n",
    "\n",
    "from reportlab.lib.pagesizes import A4\n",
    "from reportlab.platypus import SimpleDocTemplate, Paragraph, Spacer, Image,PageBreak\n",
    "from reportlab.lib.styles import getSampleStyleSheet, ParagraphStyle\n",
    "from reportlab.pdfbase import pdfmetrics\n",
    "from reportlab.pdfbase.ttfonts import TTFont\n",
    "import pandas as pd\n",
    "\n",
    "df = pd.read_csv('oceny.csv')\n",
    "pdfmetrics.registerFont(TTFont('Calibri', 'Calibri.ttf'))\n",
    "\n",
    "FILE_NAME = 'Ex1_advanced_styles2.pdf'\n",
    "doc = SimpleDocTemplate(FILE_NAME,pagesize=A4,rightMargin=72,\n",
    "                        leftMargin=72,topMargin=72,bottomMargin=18)\n",
    "story=[]\n",
    "styles=getSampleStyleSheet()\n",
    "# school_subjects = df.columns[df.columns.get_loc(\"Język Polski\"):]\n",
    "school_subjects = df.columns[4:]\n",
    "\n",
    "for index, row in df.iterrows():\n",
    "    pupilGender = None\n",
    "    pupilGender = 'Uczennica' if row['Płeć']=='K' else 'Uczeń'\n",
    "    header_style = ParagraphStyle('header',parent=styles['Title'],fontName=\"Calibri\",fontSize=20)\n",
    "\n",
    "    ptext = f\"<font>{pupilGender} {row['Imię']} {row['Nazwisko']}</font>\"\n",
    "    story.append(Paragraph(ptext, header_style))\n",
    "\n",
    "    ptext = f\"<font>{row['Rok urodzenia']}</font>\"\n",
    "    story.append(Paragraph(ptext, header_style))\n",
    "\n",
    "    grades_style = ParagraphStyle('grades',\n",
    "                           fontName=\"Calibri\",\n",
    "                           fontSize=12,\n",
    "                           parent=styles['Title'])\n",
    "\n",
    "    ptext = f\"<font color='red'><i>Oceny</i></font>\"\n",
    "    story.append(Paragraph(ptext, grades_style))\n",
    "\n",
    "    for subject in school_subjects:\n",
    "        ptext = f\"<font>{subject} - {row[subject]}</font>\"\n",
    "        story.append(Paragraph(ptext, grades_style))\n",
    "        story.append(Spacer(1, 12))\n",
    "    pageBreak = PageBreak()\n",
    "    story.append(pageBreak)\n",
    "\n",
    "doc.build(story)"
   ]
  },
  {
   "cell_type": "code",
   "execution_count": 44,
   "outputs": [],
   "source": [
    "# school_subjects = df.columns[4:]\n",
    "# for index, row in df.iterrows():\n",
    "#     for subject in school_subjects:\n",
    "#         print(subject)\n",
    "#         print(row[subject])\n",
    "#         print(\"***\")"
   ],
   "metadata": {
    "collapsed": false
   }
  },
  {
   "cell_type": "code",
   "execution_count": null,
   "outputs": [],
   "source": [
    "# sposb 2 - canvas\n",
    "\n",
    "from reportlab.pdfgen import canvas\n",
    "from reportlab.lib.pagesizes import A2\n",
    "from reportlab.pdfbase import pdfmetrics\n",
    "from reportlab.pdfbase.ttfonts import TTFont\n",
    "\n",
    "FILE_NAME = 'Ex1_advanced.pdf'\n",
    "width, height = A2\n",
    "c = canvas.Canvas(FILE_NAME, pagesize=A2)\n",
    "\n",
    "pdfmetrics.registerFont(TTFont('Calibri', 'Calibri.ttf'))\n",
    "\n",
    "school_subjects = df.columns[df.columns.get_loc(\"Język Polski\"):]\n",
    "for index, row in df.iterrows():\n",
    "    start_y = height - height/5\n",
    "    step_y = 20\n",
    "    pupilGender = None\n",
    "    pupilGender = 'Uczennica' if row['Płeć']=='K' else 'Uczeń'\n",
    "    c.setFont('Calibri',35)\n",
    "    c.drawString(width/5, start_y, f\"{pupilGender} {row['Imię']} {row['Nazwisko']}\")\n",
    "    start_y-=2*step_y\n",
    "    c.drawString(width/5, start_y, f\"{row['Rok urodzenia']}\")\n",
    "    c.setFont('Calibri',15)\n",
    "    start_y-=4*step_y\n",
    "    c.drawString(width/5, start_y, 'Oceny')\n",
    "    for subject in school_subjects:\n",
    "        start_y-=step_y\n",
    "        c.drawString(width/5, start_y, f'{subject} - {row[subject]}')\n",
    "    c.showPage()\n",
    "c.save()\n"
   ],
   "metadata": {
    "collapsed": false
   }
  },
  {
   "cell_type": "code",
   "execution_count": 44,
   "outputs": [],
   "source": [],
   "metadata": {
    "collapsed": false
   }
  },
  {
   "cell_type": "code",
   "execution_count": 36,
   "outputs": [
    {
     "name": "stdout",
     "output_type": "stream",
     "text": [
      "3\n",
      "6\n",
      "4\n",
      "6\n",
      "6\n"
     ]
    }
   ],
   "source": [
    "for index, row in df.iterrows():\n",
    "    # print(index)\n",
    "    # print(row)\n",
    "    print(row['Matematyka'])"
   ],
   "metadata": {
    "collapsed": false
   }
  },
  {
   "cell_type": "code",
   "execution_count": 38,
   "outputs": [
    {
     "data": {
      "text/plain": "Index(['Język Polski', 'Język Angielski', 'Język Niemiecki', 'Matematyka',\n       'Chemia', 'Fizyka', 'Biologia', 'Historia', 'Geografia'],\n      dtype='object')"
     },
     "execution_count": 38,
     "metadata": {},
     "output_type": "execute_result"
    }
   ],
   "source": [
    "# school_subjects = df.columns[df.columns.get_loc(\"Język Polski\"):]\n",
    "school_subjects = df.columns[4:]"
   ],
   "metadata": {
    "collapsed": false
   }
  },
  {
   "cell_type": "code",
   "execution_count": null,
   "outputs": [],
   "source": [],
   "metadata": {
    "collapsed": false
   }
  }
 ],
 "metadata": {
  "kernelspec": {
   "display_name": "Python 3",
   "language": "python",
   "name": "python3"
  },
  "language_info": {
   "codemirror_mode": {
    "name": "ipython",
    "version": 3
   },
   "file_extension": ".py",
   "mimetype": "text/x-python",
   "name": "python",
   "nbconvert_exporter": "python",
   "pygments_lexer": "ipython3",
   "version": "3.8.5"
  }
 },
 "nbformat": 4,
 "nbformat_minor": 5
}
