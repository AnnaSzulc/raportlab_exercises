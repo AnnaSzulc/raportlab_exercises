{
 "cells": [
  {
   "cell_type": "markdown",
   "id": "national-prospect",
   "metadata": {},
   "source": [
    "Za pomocą biblioteki `reportlab` wygeneruj PDF z tabliczką mnożenia liczb od 0 do 10 włącznie. Pogrubionym fontem wypisz nagłówki wierszy i kolumn - czynniki, natomiast iloczyny wypisz bez pogrubienia.\n",
    "\n",
    "Podpowiedź: stwórz zagnieżdżone pętle **for**: zewnętrzna ze zmienną `x` oraz wewnętrzna ze zmienną `y` (albo odwrotnie, jeśli wolisz). Użyj tych zmiennych zarówno do obliczenia wyników mnożenia, jak i do obliczenia gdzie na stronie ta liczba ma się pojawić."
   ]
  },
  {
   "cell_type": "code",
   "execution_count": 8,
   "id": "dynamic-location",
   "metadata": {},
   "outputs": [],
   "source": [
    "from reportlab.pdfgen import canvas\n",
    "canv = canvas.Canvas('tabliczka_mnozenia.pdf')\n",
    "rozstaw = 20\n",
    "start_y = 500\n",
    "\n",
    "for index_x in range(11):\n",
    "    for index_y in range(11):\n",
    "        if index_x == 0 and index_y == 0:\n",
    "            continue\n",
    "        elif index_x == 0:\n",
    "            canv.drawString(50 + index_x * rozstaw, start_y - index_y * rozstaw, f'{index_y}', mode=2)\n",
    "        elif index_y == 0:\n",
    "            canv.drawString(50 + index_x * rozstaw, start_y - index_y * rozstaw, f'{index_x}', mode=2)\n",
    "        else:\n",
    "            canv.drawString(50 + index_x * rozstaw, start_y - index_y * rozstaw, f'{index_x * index_y}')\n",
    "canv.save()"
   ]
  },
  {
   "cell_type": "code",
   "execution_count": null,
   "outputs": [],
   "source": [
    "# rozwiazanie Karoliny\n",
    "from reportlab.pdfgen import canvas\n",
    "from reportlab.pdfbase import pdfmetrics\n",
    "from reportlab.pdfbase.ttfonts import TTFont\n",
    "pdfmetrics.registerFont(TTFont('Helvetica', 'times.ttf'))\n",
    "c = canvas.Canvas('tabliczka mnożenia.pdf')\n",
    "\n",
    "for x in range (1,11):\n",
    "    for y in range(1,11):\n",
    "        i = x*y\n",
    "        c.setFont(\"Helvetica-Bold\",10)\n",
    "        c.drawString(x*20+100,300,f'{x}')\n",
    "        c.setFont(\"Helvetica-Bold\",10)\n",
    "        c.drawString(100,-y*20+300,f'{y}')\n",
    "        c.setFont(\"Helvetica\",10)\n",
    "        c.drawString(x*20+100,-y*20+300,f'{i}')\n",
    "\n",
    "c.save()\n"
   ],
   "metadata": {
    "collapsed": false
   }
  }
 ],
 "metadata": {
  "kernelspec": {
   "display_name": "Python 3",
   "language": "python",
   "name": "python3"
  },
  "language_info": {
   "codemirror_mode": {
    "name": "ipython",
    "version": 3
   },
   "file_extension": ".py",
   "mimetype": "text/x-python",
   "name": "python",
   "nbconvert_exporter": "python",
   "pygments_lexer": "ipython3",
   "version": "3.8.5"
  }
 },
 "nbformat": 4,
 "nbformat_minor": 5
}
