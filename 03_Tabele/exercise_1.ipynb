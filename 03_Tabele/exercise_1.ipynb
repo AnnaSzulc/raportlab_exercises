{
 "cells": [
  {
   "cell_type": "markdown",
   "id": "balanced-keeping",
   "metadata": {},
   "source": [
    "Wygeneruj plik `faktura.pdf` na podstawie danych podanych poniżej. Postaraj się nie wpisywać danych na stałe w kodzie - umieść je w zmiennych na początku skryptu, a dodając kolejne elementy do PDFa odnoś się do tych zmiennych.\n",
    "\n",
    "\n",
    "\n",
    "Wzór:\n",
    "\n",
    "![Wzór](faktura.png)"
   ]
  },
  {
   "cell_type": "code",
   "execution_count": 8,
   "id": "interested-illness",
   "metadata": {},
   "outputs": [],
   "source": [
    "from reportlab.platypus import SimpleDocTemplate, Spacer, Paragraph, Table, TableStyle\n",
    "from reportlab.lib.styles import getSampleStyleSheet, ParagraphStyle\n",
    "from reportlab.pdfbase import pdfmetrics\n",
    "from reportlab.pdfbase.ttfonts import TTFont\n",
    "from datetime import datetime\n",
    "\n",
    "pdfmetrics.registerFont(TTFont('Calibri', '/Applications/Microsoft Word.app/Contents/Resources/DFonts/Calibri.ttf'))\n",
    "style = getSampleStyleSheet()\n",
    "date = datetime.now().strftime(\"%d/%m/%Y\")\n",
    "\n",
    "prawy_margines = ParagraphStyle(\n",
    "    name='prawy_margines',\n",
    "    alignment=2,\n",
    "    parent=style['Normal'],\n",
    "    fontName = 'Calibri'\n",
    ")\n",
    "\n",
    "doc = SimpleDocTemplate('faktura1.pdf')\n",
    "\n",
    "story=[]\n",
    "\n",
    "story.append(Paragraph('Warszawa', prawy_margines))\n",
    "story.append(Paragraph(f'Data wystawienia: {date}', prawy_margines))\n",
    "story.append(Paragraph(f'Data sprzedazy: {date}', prawy_margines))\n",
    "story.append(Paragraph(f'Data zakonczenia: {date}', prawy_margines))\n",
    "\n",
    "story.append(Paragraph('Sprzedawca', style['Normal']))\n",
    "story.append(Paragraph('Firma', style['Normal']))\n",
    "story.append(Paragraph('adres', style['Normal']))\n",
    "story.append(Paragraph('NIP', style['Normal']))\n",
    "story.append(Paragraph('REGON', style['Normal']))\n",
    "story.append(Spacer(1, 20))\n",
    "story.append(Paragraph('Nabywca', style['Normal']))\n",
    "story.append(Paragraph('Firma', style['Normal']))\n",
    "story.append(Paragraph('adres', style['Normal']))\n",
    "story.append(Paragraph('NIP', style['Normal']))\n",
    "story.append(Paragraph('REGON', style['Normal']))\n",
    "story.append(Spacer(1, 20))\n",
    "\n",
    "table_data = [\n",
    "    ['l.p', 'Nazwa towaru', 'ilosc', 'cena', 'cena laczna'],\n",
    "    [1, 'Wiaderko', 10, '9 zl', '90 zl'],\n",
    "    [2, 'Lopatka', 10, '19 zl', '190 zl'],\n",
    "    ['Suma', '', 20 , '280 zl', '2800 zl']\n",
    "]\n",
    "\n",
    "\n",
    "styl_tabeli = TableStyle([\n",
    "    ('INNERGRID', (0,0), (-1,-1), 0.25, \"black\"),\n",
    "    ('BOX', (0,0), (-1,-1), 0.25, \"black\"),\n",
    "    ('SPAN', (0,-1), (1,-1)),\n",
    "    ('FONTNAME', (0,0), (-1,-1), 'Calibri')\n",
    "])\n",
    "story.append(Spacer(1, 20))\n",
    "tabela = Table(data=table_data, style=styl_tabeli)\n",
    "story.append(tabela)\n",
    "story.append(Spacer(1, 20))\n",
    "story.append(Paragraph('...........................', style['Normal']))\n",
    "story.append(Paragraph('Podpis upowaznionego do odbioru', style['Normal']))\n",
    "story.append(Spacer(1, 20))\n",
    "story.append(Paragraph('...........................', style['Normal']))\n",
    "story.append(Paragraph('Podpis upowaznionego do wydania', style['Normal']))\n",
    "\n",
    "doc.build(story)\n",
    "\n",
    "\n"
   ]
  },
  {
   "cell_type": "code",
   "execution_count": null,
   "outputs": [],
   "source": [],
   "metadata": {
    "collapsed": false
   }
  }
 ],
 "metadata": {
  "kernelspec": {
   "display_name": "Python 3",
   "language": "python",
   "name": "python3"
  },
  "language_info": {
   "codemirror_mode": {
    "name": "ipython",
    "version": 3
   },
   "file_extension": ".py",
   "mimetype": "text/x-python",
   "name": "python",
   "nbconvert_exporter": "python",
   "pygments_lexer": "ipython3",
   "version": "3.8.5"
  }
 },
 "nbformat": 4,
 "nbformat_minor": 5
}
