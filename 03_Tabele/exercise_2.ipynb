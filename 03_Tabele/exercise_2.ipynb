{
 "cells": [
  {
   "cell_type": "markdown",
   "id": "grand-earthquake",
   "metadata": {},
   "source": [
    "Na podstawie poprzedniego zadania napisz funkcję, która przyjmie nazwę pliku do wygenerowania, dane o nabywcy oraz listę pozycji na fakturze - a następnie wygeneruje i zapisze fakturę w pliku o podanej nazwie.\n",
    "\n",
    "W pliku `dane.json` znajdziesz dane trzech faktur - za pomocą pętli odczytaj te dane i przekaż do funkcji, aby wygenerować faktury w formie plików PDF. Pliki nazwij kolejno `faktura-1.pdf`, `faktura-2.pdf`, itd."
   ]
  }
 ],
 "metadata": {
  "kernelspec": {
   "display_name": "Python 3",
   "language": "python",
   "name": "python3"
  },
  "language_info": {
   "codemirror_mode": {
    "name": "ipython",
    "version": 3
   },
   "file_extension": ".py",
   "mimetype": "text/x-python",
   "name": "python",
   "nbconvert_exporter": "python",
   "pygments_lexer": "ipython3",
   "version": "3.8.5"
  }
 },
 "nbformat": 4,
 "nbformat_minor": 5
}
