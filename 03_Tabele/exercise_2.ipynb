{
 "cells": [
  {
   "cell_type": "markdown",
   "id": "grand-earthquake",
   "metadata": {},
   "source": [
    "Na podstawie poprzedniego zadania napisz funkcję, która przyjmie nazwę pliku do wygenerowania, dane o nabywcy oraz listę pozycji na fakturze - a następnie wygeneruje i zapisze fakturę w pliku o podanej nazwie.\n",
    "\n",
    "W pliku `dane.json` znajdziesz dane trzech faktur - za pomocą pętli odczytaj te dane i przekaż do funkcji, aby wygenerować faktury w formie plików PDF. Pliki nazwij kolejno `faktura-1.pdf`, `faktura-2.pdf`, itd."
   ]
  },
  {
   "cell_type": "code",
   "execution_count": 63,
   "outputs": [
    {
     "name": "stdout",
     "output_type": "stream",
     "text": [
      "Generated invoice faktura-1.pdf\n",
      "Generated invoice faktura-2.pdf\n",
      "Generated invoice faktura-3.pdf\n"
     ]
    }
   ],
   "source": [
    "import json\n",
    "from reportlab.platypus import SimpleDocTemplate, Spacer, Paragraph, Table, TableStyle\n",
    "from reportlab.lib.styles import getSampleStyleSheet, ParagraphStyle\n",
    "from reportlab.pdfbase import pdfmetrics\n",
    "from reportlab.pdfbase.ttfonts import TTFont\n",
    "from datetime import date\n",
    "\n",
    "pdfmetrics.registerFont(TTFont('Calibri', '/Applications/Microsoft Word.app/Contents/Resources/DFonts/Calibri.ttf'))\n",
    "style = getSampleStyleSheet()\n",
    "\n",
    "prawy_margines = ParagraphStyle(\n",
    "    name='prawy_margines',\n",
    "    alignment=2,\n",
    "    parent=style['Normal'],\n",
    "    fontName='Calibri'\n",
    ")\n",
    "\n",
    "def generate_invoice(filename, buyer_data, items):\n",
    "    doc = SimpleDocTemplate(filename)\n",
    "\n",
    "    story = []\n",
    "\n",
    "    today = date.today()\n",
    "    story.append(Paragraph(today.strftime(\"%d.%m.%Y\"), prawy_margines))\n",
    "\n",
    "    story.append(Paragraph('Sprzedawca', style['Normal']))\n",
    "    story.append(Paragraph('Firma', style['Normal']))\n",
    "    story.append(Paragraph('adres', style['Normal']))\n",
    "    story.append(Paragraph('Nip', style['Normal']))\n",
    "    story.append(Paragraph('regon', style['Normal']))\n",
    "\n",
    "    story.append(Paragraph('Nabywca', style['Normal']))\n",
    "    story.append(Paragraph(buyer_data['name'], style['Normal']))\n",
    "    story.append(Paragraph(buyer_data['address'], style['Normal']))\n",
    "    story.append(Paragraph(str(buyer_data['nip']), style['Normal']))\n",
    "    story.append(Paragraph(str(buyer_data['regon']), style['Normal']))\n",
    "\n",
    "    table_data = [['l.p', 'Nazwa towaru', 'ilosc', 'cena', 'cena laczna']]\n",
    "    suma = 0\n",
    "    for i, item in enumerate(items, start=1):\n",
    "        # print(i)\n",
    "        # print(item)\n",
    "        cena_laczna = item['price'] * item['amount']\n",
    "        suma += cena_laczna\n",
    "        table_data.append([i, item['name'], item['amount'], f'{item[\"price\"]} zł', f'{cena_laczna} zł'])\n",
    "\n",
    "    table_data.append(['Suma', '', '', '', f'{suma} zł'])\n",
    "\n",
    "    styl_tabeli = TableStyle([\n",
    "        ('INNERGRID', (0, 0), (-1, -1), 0.25, \"black\"),\n",
    "        ('BOX', (0, 0), (-1, -1), 0.25, \"black\"),\n",
    "        ('FONTNAME', (0,0), (-1,-1), 'Calibri'),\n",
    "    ])\n",
    "\n",
    "    tabela = Table(data=table_data, style=styl_tabeli)\n",
    "    story.append(tabela)\n",
    "    story.append(Paragraph('...........................', style['Normal']))\n",
    "    story.append(Paragraph('Podpis upowaznionego do odbioru', style['Normal']))\n",
    "    story.append(Paragraph('...........................', style['Normal']))\n",
    "    story.append(Paragraph('Podpis upowaznionego do wydania', style['Normal']))\n",
    "\n",
    "    doc.build(story)\n",
    "\n",
    "\n",
    "# read data from dane.json\n",
    "with open('dane do faktur.json', 'r') as f:\n",
    "    data = json.load(f)\n",
    "\n",
    "# generate invoices\n",
    "for i, invoice in enumerate(data['invoices'], start=1):\n",
    "    filename = f'faktura-{i}.pdf'\n",
    "    generate_invoice(filename, invoice['buyer'], invoice['items'])\n",
    "    print(f'Generated invoice {filename}')\n"
   ],
   "metadata": {
    "collapsed": false
   }
  },
  {
   "cell_type": "code",
   "execution_count": null,
   "outputs": [],
   "source": [
    "example_dict = {\n",
    "    \"imie\": \"Kasia\",\n",
    "    \"hobby\": [\"sport\", \"data science\", \"podroze\"],\n",
    "    \"rocznik\": 1993,\n",
    "}\n",
    "example_dict['hobby'][0]"
   ],
   "metadata": {
    "collapsed": false
   }
  },
  {
   "cell_type": "code",
   "execution_count": 35,
   "outputs": [],
   "source": [
    "with open('dane do faktur.json', 'r') as f:\n",
    "    data = json.load(f)"
   ],
   "metadata": {
    "collapsed": false
   }
  },
  {
   "cell_type": "code",
   "execution_count": 41,
   "outputs": [
    {
     "name": "stdout",
     "output_type": "stream",
     "text": [
      "{'date': '1.12.2020', 'buyer': {'name': 'Firma XYZ', 'address': 'Adres firmy XYZ', 'nip': 7564984534, 'regon': 324353453}, 'items': [{'name': 'Grabki', 'price': 4.5, 'amount': 5}, {'name': 'Konewka', 'price': 15, 'amount': 10}, {'name': 'Łopatka', 'price': 6, 'amount': 5}]}\n",
      "{'date': '11.11.2020', 'buyer': {'name': 'Firma ABC', 'address': 'Adres firmy ABC', 'nip': 8472058276, 'regon': 437598432}, 'items': [{'name': 'Lalka', 'price': 39.9, 'amount': 6}, {'name': 'Samochodzik', 'price': 16.5, 'amount': 4}, {'name': 'Książka', 'price': 19.9, 'amount': 10}]}\n",
      "{'date': '15.12.2020', 'buyer': {'name': 'Firma IJK', 'address': 'Adres firmy IJK', 'nip': 7473092210, 'regon': 687432543}, 'items': [{'name': 'Karabin', 'price': 25, 'amount': 10}, {'name': 'Kulki', 'price': 2.5, 'amount': 100}]}\n"
     ]
    }
   ],
   "source": [
    "for i, invoice in enumerate(data['invoices'], start=1):\n",
    "    print(invoice)"
   ],
   "metadata": {
    "collapsed": false
   }
  },
  {
   "cell_type": "code",
   "execution_count": 57,
   "outputs": [],
   "source": [
    "buyer_info = data[\"invoices\"][0]['buyer']\n",
    "dict = {'date': '1.12.2020',\n",
    "        'buyer': {'name': 'Firma XYZ', 'address': 'Adres firmy XYZ', 'nip': 7564984534, 'regon': 324353453},\n",
    "        'items': [{'name': 'Grabki', 'price': 4.5, 'amount': 5}, {'name': 'Konewka', 'price': 15, 'amount': 10}, {'name': 'Łopatka', 'price': 6, 'amount': 5}]\n",
    "        }\n",
    "\n",
    "example_dict = {\n",
    "    \"imie\": \"Kasia\",\n",
    "    \"hobby\": [\"sport\", \"data science\", \"podroze\"],\n",
    "    \"rocznik\": 1993,\n",
    "}\n"
   ],
   "metadata": {
    "collapsed": false
   }
  },
  {
   "cell_type": "code",
   "execution_count": 60,
   "outputs": [
    {
     "data": {
      "text/plain": "7564984534"
     },
     "execution_count": 60,
     "metadata": {},
     "output_type": "execute_result"
    }
   ],
   "source": [
    "buyer_info['nip']"
   ],
   "metadata": {
    "collapsed": false
   }
  },
  {
   "cell_type": "code",
   "execution_count": 64,
   "outputs": [
    {
     "data": {
      "text/plain": "[{'name': 'Grabki', 'price': 4.5, 'amount': 5},\n {'name': 'Konewka', 'price': 15, 'amount': 10},\n {'name': 'Łopatka', 'price': 6, 'amount': 5}]"
     },
     "execution_count": 64,
     "metadata": {},
     "output_type": "execute_result"
    }
   ],
   "source": [
    "invoice = data['invoices'][0]\n",
    "\n",
    "buyer_data = invoice['buyer']\n",
    "items = invoice['items']\n",
    "items"
   ],
   "metadata": {
    "collapsed": false
   }
  },
  {
   "cell_type": "code",
   "execution_count": 68,
   "outputs": [],
   "source": [
    "doc = SimpleDocTemplate('fakura_example.pdf')\n",
    "\n",
    "story = []\n",
    "\n",
    "today = date.today()\n",
    "story.append(Paragraph(today.strftime(\"%d.%m.%Y\"), prawy_margines))\n",
    "\n",
    "invoice = data['invoices'][0] #pierwsza firma w jsonie\n",
    "buyer_data = invoice['buyer']\n",
    "items = invoice['items']\n",
    "\n",
    "story.append(Paragraph('Sprzedawca', style['Normal']))\n",
    "story.append(Paragraph('Firma', style['Normal']))\n",
    "story.append(Paragraph('adres', style['Normal']))\n",
    "story.append(Paragraph('Nip', style['Normal']))\n",
    "story.append(Paragraph('regon', style['Normal']))\n",
    "story.append(Spacer(1, 20))\n",
    "story.append(Paragraph('Nabywca', style['Normal']))\n",
    "story.append(Paragraph(buyer_data['name'], style['Normal']))\n",
    "story.append(Paragraph(buyer_data['address'], style['Normal']))\n",
    "story.append(Paragraph(str(buyer_data['nip']), style['Normal']))\n",
    "story.append(Paragraph(str(buyer_data['regon']), style['Normal']))\n",
    "\n",
    "table_data = [['l.p', 'Nazwa towaru', 'ilosc', 'cena', 'cena laczna']]\n",
    "suma = 0\n",
    "for i, item in enumerate(items, start=1):\n",
    "    cena_laczna = item['price'] * item['amount']\n",
    "    suma += cena_laczna\n",
    "    table_data.append([i, item['name'], item['amount'], f'{item[\"price\"]} zł', f'{cena_laczna} zł'])\n",
    "\n",
    "table_data.append(['Suma', '', '', '', f'{suma} zł'])\n",
    "\n",
    "styl_tabeli = TableStyle([\n",
    "    ('INNERGRID', (0, 0), (-1, -1), 0.25, \"black\"),\n",
    "    ('BOX', (0, 0), (-1, -1), 0.25, \"black\"),\n",
    "    ('FONTNAME', (0,0), (-1,-1), 'Calibri'),\n",
    "])\n",
    "\n",
    "tabela = Table(data=table_data, style=styl_tabeli)\n",
    "story.append(tabela)\n",
    "story.append(Spacer(1, 20))\n",
    "story.append(Paragraph('...........................', style['Normal']))\n",
    "story.append(Paragraph('Podpis upowaznionego do odbioru', style['Normal']))\n",
    "story.append(Spacer(1, 20))\n",
    "story.append(Paragraph('...........................', style['Normal']))\n",
    "story.append(Paragraph('Podpis upowaznionego do wydania', style['Normal']))\n",
    "\n",
    "doc.build(story)"
   ],
   "metadata": {
    "collapsed": false
   }
  },
  {
   "cell_type": "code",
   "execution_count": null,
   "outputs": [],
   "source": [],
   "metadata": {
    "collapsed": false
   }
  }
 ],
 "metadata": {
  "kernelspec": {
   "display_name": "Python 3",
   "language": "python",
   "name": "python3"
  },
  "language_info": {
   "codemirror_mode": {
    "name": "ipython",
    "version": 3
   },
   "file_extension": ".py",
   "mimetype": "text/x-python",
   "name": "python",
   "nbconvert_exporter": "python",
   "pygments_lexer": "ipython3",
   "version": "3.8.5"
  }
 },
 "nbformat": 4,
 "nbformat_minor": 5
}
