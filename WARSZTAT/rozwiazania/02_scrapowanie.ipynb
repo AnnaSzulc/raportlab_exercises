{
 "cells": [
  {
   "cell_type": "code",
   "execution_count": null,
   "metadata": {
    "collapsed": true
   },
   "outputs": [],
   "source": [
    "import pandas as pd\n",
    "import re\n",
    "import os\n",
    "from unicodedata import normalize\n",
    "from bs4 import BeautifulSoup"
   ]
  },
  {
   "cell_type": "code",
   "execution_count": null,
   "outputs": [],
   "source": [
    "input_1 = '5000 zł'\n",
    "input_2 = '4000 do 5000 PLN'\n",
    "input_3 = '5.000 - 6.000 zł'\n",
    "input_4 = 'from 10 000 to 15 000 PLN'\n"
   ],
   "metadata": {
    "collapsed": false
   }
  },
  {
   "cell_type": "code",
   "execution_count": null,
   "outputs": [],
   "source": [
    "def parse_salary(salary) -> dict:\n",
    "    salary = normalize('NFKD', salary) #znaki diakrytycznymi/ specjalne - zeby czytalo\n",
    "    bounds = re.findall('[0-9]+', salary.replace(' ', ''))\n",
    "    low_bound = bounds[0]\n",
    "    high_bound = bounds[1] if len(bounds) > 1 else bounds[0]\n",
    "    currency = salary.split()[-1]\n",
    "\n",
    "    return {'low': low_bound,\n",
    "            'high': high_bound,\n",
    "            'currency': currency}"
   ],
   "metadata": {
    "collapsed": false
   }
  },
  {
   "cell_type": "code",
   "execution_count": null,
   "outputs": [],
   "source": [
    "parse_salary(input_2)"
   ],
   "metadata": {
    "collapsed": false
   }
  },
  {
   "cell_type": "code",
   "execution_count": null,
   "outputs": [],
   "source": [
    "def parse_city(city) -> dict:\n",
    "    if re.search('(Zdalnie)', city):\n",
    "         _city = \"Zdalna\",\n",
    "    else:\n",
    "        _city = city\n",
    "\n",
    "    return {'city': _city}"
   ],
   "metadata": {
    "collapsed": false
   }
  },
  {
   "cell_type": "code",
   "execution_count": null,
   "outputs": [],
   "source": [
    "parse_city(\"Zdalnie\")"
   ],
   "metadata": {
    "collapsed": false
   }
  },
  {
   "cell_type": "code",
   "execution_count": null,
   "outputs": [],
   "source": [
    "# A to dlatego że lista nie ma takiej metody. Dopiero gdy iterujemy przez elemnty w liscie ktore są obiektami BeautifulSoup\n",
    "# to mozemy wywaolac find() w funkcji parse_job\n",
    "\n",
    "def parse_jobs(jobs) -> list:\n",
    "    results = []\n",
    "\n",
    "    for job in jobs:\n",
    "        results.append(parse_job(job))\n",
    "\n",
    "    return results"
   ],
   "metadata": {
    "collapsed": false
   }
  },
  {
   "cell_type": "code",
   "execution_count": null,
   "outputs": [],
   "source": [
    "def parse_job(job) -> dict:\n",
    "#przetwarzamy informacje o pojedynczej ofercie pracy\n",
    "#salary & lokalizacja - pobieramy to z TAGOW HTML -> i na tym aplikujemy nasze funkcje\n",
    "    job_info = job.find('nfj-posting-item-title', class_='align-items-lg-center')\n",
    "    # print(job_info)\n",
    "\n",
    "    salary = job_info.find_all('span')[0].text.strip() #strip usuwa puste spacje\n",
    "    salary_data = parse_salary(salary)\n",
    "    # print(salary)\n",
    "\n",
    "    location = job.find('nfj-posting-item-city')\n",
    "    if location is None:\n",
    "        location = 'Not listed'\n",
    "    else:\n",
    "        location = location.find('span')\n",
    "        location = location.text.strip()\n",
    "\n",
    "\n",
    "    location = parse_city(location)\n",
    "    # print(location)\n",
    "\n",
    "    name = job.find('h3', class_='posting-title__position').text.strip()\n",
    "    # print(name)\n",
    "#select_one -> selektory CSS\n",
    "    # company = job.select_one(\"div[_ngcontent-serverapp-c302]>span[data-cy='company name on the job offer listing']\").text.strip()\n",
    "\n",
    "##POPRAW COMPANY!!!!\n",
    "    company = job.find('span', class_='d-block')#.text.replace('w', '').strip()\n",
    "    # company = job.select_one(\"div[_ngcontent-serverapp-c302]>span[data-cy='company name on the job offer listing']\")\n",
    "    if company is not None:\n",
    "        company = company.text.strip()\n",
    "    else:\n",
    "        company = \"Unknown\"\n",
    "\n",
    "    # print(company)\n",
    "    technology = job.select_one(\"span[data-cy='category name on the job offer listing']\")\n",
    "\n",
    "    #A gdyby zamiast powyższego select_one użyć find to będzie wyglądać polecenie jak poniżej:\n",
    "    # job.find('span', attrs={\"data-cy\": \"category name on the job offer listing\"})\n",
    "\n",
    "    if technology:\n",
    "        technology = technology.text.strip()\n",
    "    else:\n",
    "        technology = 'N/A'\n",
    "\n",
    "    return {\n",
    "        'location': location,\n",
    "        'salary': salary_data,\n",
    "        'name': name,\n",
    "        'company': company,\n",
    "        'technology': technology\n",
    "    }"
   ],
   "metadata": {
    "collapsed": false
   }
  },
  {
   "cell_type": "code",
   "execution_count": null,
   "outputs": [],
   "source": [
    "def get_data(page) -> list:\n",
    "    results = []\n",
    "# Wywołanie x.parent zwraca rodzica (bezpośredniego nadrzędnego elementu) dla tego elementu.\n",
    "    jobs = [x.parent for x in page.find_all('div', class_='posting-image')]\n",
    "    page_data = parse_jobs(jobs)\n",
    "    results += page_data\n",
    "\n",
    "    return results"
   ],
   "metadata": {
    "collapsed": false
   }
  },
  {
   "cell_type": "code",
   "execution_count": null,
   "outputs": [],
   "source": [
    "# przyklad\n",
    "with open('/Users/katarzynahewelt/Desktop/Materiały na zjazd/zjazd_5_po_zajeciach/warsztat_oraz_struktura_plikow_cookiecutter/data/raw/data scientist_1_20230214_001527.html', 'r', encoding='utf-8') as f:\n",
    "    page_html = f.read()\n",
    "\n",
    "page = BeautifulSoup(page_html, 'html.parser')\n",
    "\n",
    "results = get_data(page)\n",
    "print(results)\n"
   ],
   "metadata": {
    "collapsed": false
   }
  },
  {
   "cell_type": "code",
   "execution_count": null,
   "outputs": [],
   "source": [],
   "metadata": {
    "collapsed": false
   }
  },
  {
   "cell_type": "code",
   "execution_count": null,
   "outputs": [],
   "source": [],
   "metadata": {
    "collapsed": false
   }
  }
 ],
 "metadata": {
  "kernelspec": {
   "display_name": "Python 3",
   "language": "python",
   "name": "python3"
  },
  "language_info": {
   "codemirror_mode": {
    "name": "ipython",
    "version": 2
   },
   "file_extension": ".py",
   "mimetype": "text/x-python",
   "name": "python",
   "nbconvert_exporter": "python",
   "pygments_lexer": "ipython2",
   "version": "2.7.6"
  }
 },
 "nbformat": 4,
 "nbformat_minor": 0
}
